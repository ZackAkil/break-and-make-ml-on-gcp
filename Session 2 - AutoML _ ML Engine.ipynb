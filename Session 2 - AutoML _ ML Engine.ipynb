{
 "cells": [
  {
   "cell_type": "markdown",
   "metadata": {
    "colab_type": "text",
    "id": "rWGmQckw8LhH"
   },
   "source": [
    "# Session 2 - AutoML Natural Language"
   ]
  },
  {
   "cell_type": "code",
   "execution_count": null,
   "metadata": {
    "colab": {},
    "colab_type": "code",
    "id": "TvkPIG9e8MZx"
   },
   "outputs": [],
   "source": [
    "# here's, some text data sets for autoML\n",
    "# yelp reviews"
   ]
  },
  {
   "cell_type": "markdown",
   "metadata": {},
   "source": [
    "Downlaod the following data:\n",
    "\n",
    "https://storage.googleapis.com/zacks-fun-datasets/yelp_reviews_3000.csv"
   ]
  },
  {
   "cell_type": "code",
   "execution_count": null,
   "metadata": {
    "colab": {},
    "colab_type": "code",
    "id": "7O33chXz8YCJ"
   },
   "outputs": [],
   "source": [
    "# video of sara explaining autoML"
   ]
  },
  {
   "cell_type": "markdown",
   "metadata": {
    "colab_type": "text",
    "id": "f_cVP8VM_Aje"
   },
   "source": [
    "https://cloud.google.com/vision/automl/docs/"
   ]
  },
  {
   "cell_type": "code",
   "execution_count": null,
   "metadata": {
    "colab": {},
    "colab_type": "code",
    "id": "C22U5zyj8bCz"
   },
   "outputs": [],
   "source": [
    "# after it's done trianing here's where you can go to create service account "
   ]
  },
  {
   "cell_type": "code",
   "execution_count": null,
   "metadata": {
    "colab": {},
    "colab_type": "code",
    "id": "Er4QL9Kd8m0n"
   },
   "outputs": [],
   "source": [
    "# here's code that will allow you to fetch prediction"
   ]
  },
  {
   "cell_type": "code",
   "execution_count": null,
   "metadata": {
    "colab": {},
    "colab_type": "code",
    "id": "aAUR6ozj8q7g"
   },
   "outputs": [],
   "source": [
    "# show real time applications (reviewer, junk food bot)"
   ]
  }
 ],
 "metadata": {
  "colab": {
   "collapsed_sections": [],
   "name": "Session 2 - AutoML & ML Engine.ipynb",
   "provenance": [],
   "toc_visible": true,
   "version": "0.3.2"
  },
  "kernelspec": {
   "display_name": "Python 3",
   "language": "python",
   "name": "python3"
  },
  "language_info": {
   "codemirror_mode": {
    "name": "ipython",
    "version": 3
   },
   "file_extension": ".py",
   "mimetype": "text/x-python",
   "name": "python",
   "nbconvert_exporter": "python",
   "pygments_lexer": "ipython3",
   "version": "3.6.4"
  }
 },
 "nbformat": 4,
 "nbformat_minor": 2
}
