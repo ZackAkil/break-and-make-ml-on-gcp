{
  "nbformat": 4,
  "nbformat_minor": 0,
  "metadata": {
    "colab": {
      "name": "Session 2 - AutoML & ML Engine.ipynb",
      "version": "0.3.2",
      "provenance": [],
      "collapsed_sections": [],
      "toc_visible": true,
      "include_colab_link": true
    },
    "kernelspec": {
      "display_name": "Python 3",
      "language": "python",
      "name": "python3"
    }
  },
  "cells": [
    {
      "cell_type": "markdown",
      "metadata": {
        "id": "view-in-github",
        "colab_type": "text"
      },
      "source": [
        "<a href=\"https://colab.research.google.com/github/ZackAkil/break-and-make-ml-on-gcp/blob/master/Session%202%20-%20AutoML.ipynb\" target=\"_parent\"><img src=\"https://colab.research.google.com/assets/colab-badge.svg\" alt=\"Open In Colab\"/></a>"
      ]
    },
    {
      "metadata": {
        "colab_type": "text",
        "id": "rWGmQckw8LhH"
      },
      "cell_type": "markdown",
      "source": [
        "# Session 2 - AutoML Natural Language"
      ]
    },
    {
      "metadata": {
        "id": "7-1NE85yXR-5",
        "colab_type": "text"
      },
      "cell_type": "markdown",
      "source": [
        "Yelp has kindly open sourced data about resturant reviews.\n",
        "\n",
        "Inside the data you get the review a person gave along with the star rateing."
      ]
    },
    {
      "metadata": {
        "id": "xcWMFHZ7XPHP",
        "colab_type": "text"
      },
      "cell_type": "markdown",
      "source": [
        "Downlaod the following data:\n",
        "\n",
        "https://storage.googleapis.com/zacks-fun-datasets/yelp_reviews_3000.csv"
      ]
    },
    {
      "metadata": {
        "colab_type": "text",
        "id": "f_cVP8VM_Aje"
      },
      "cell_type": "markdown",
      "source": [
        "If you want a refresher on how to use AutoML, look at the video in the docs:\n",
        "https://cloud.google.com/vision/automl/docs/\n",
        "\n",
        "## The rest of this notebook is for when it's finnished training"
      ]
    },
    {
      "metadata": {
        "id": "g7ZYz-OyZMZg",
        "colab_type": "text"
      },
      "cell_type": "markdown",
      "source": [
        "To call the AutoML model you need a service account file (for authetication):\n",
        "\n",
        "<img height=300px src=\"https://raw.githubusercontent.com/ZackAkil/break-and-make-ml-on-gcp/master/screenshot/serviceaccount.png\"/>"
      ]
    },
    {
      "metadata": {
        "id": "AN2IwbMFcyGh",
        "colab_type": "text"
      },
      "cell_type": "markdown",
      "source": [
        "make sure you upload the service account file to the Colab:\n",
        "\n",
        "<img height=300px src=\"https://raw.githubusercontent.com/ZackAkil/break-and-make-ml-on-gcp/master/screenshot/fileupload.png\"/> "
      ]
    },
    {
      "metadata": {
        "id": "0feX7AI0Zjx5",
        "colab_type": "code",
        "colab": {}
      },
      "cell_type": "code",
      "source": [
        "# you'll need to install this library to use AutoML\n",
        "!pip install google-cloud-automl --quiet"
      ],
      "execution_count": 0,
      "outputs": []
    },
    {
      "metadata": {
        "id": "O_TMvqiwdpfA",
        "colab_type": "text"
      },
      "cell_type": "markdown",
      "source": [
        "Create function that will call AutoML using your service account file:"
      ]
    },
    {
      "metadata": {
        "id": "CyZ7HypJZtiq",
        "colab_type": "code",
        "colab": {}
      },
      "cell_type": "code",
      "source": [
        "import sys\n",
        "from google.cloud import automl_v1beta1\n",
        "from google.cloud.automl_v1beta1.proto import service_pb2\n",
        "\n",
        "\n",
        "SERVICE_ACCOUNT_JSON_FILE_NAME = '[SERVICE ACCOUNT FILE NAME]'\n",
        "\n",
        "\n",
        "# YOU DON'T NEED TO CHANGE THIS FUNCTION:\n",
        "\n",
        "def get_prediction(content, project_id, model_id):\n",
        "  \n",
        "  # create a prediction client using the secret service account file\n",
        "  prediction_client = (automl_v1beta1\n",
        "                        .PredictionServiceClient\n",
        "                        .from_service_account_file(SERVICE_ACCOUNT_JSON_FILE_NAME))\n",
        "\n",
        "  name = 'projects/{}/locations/us-central1/models/{}'.format(project_id, model_id)\n",
        "  payload = {'text_snippet': {'content': content, 'mime_type': 'text/plain' }}\n",
        "  params = {}\n",
        "  request = prediction_client.predict(name, payload, params)\n",
        "  return request "
      ],
      "execution_count": 0,
      "outputs": []
    },
    {
      "metadata": {
        "id": "qUYzea8HdJro",
        "colab_type": "text"
      },
      "cell_type": "markdown",
      "source": [
        "## Call your AutoML model"
      ]
    },
    {
      "metadata": {
        "id": "c7CP_7yAcS7m",
        "colab_type": "code",
        "colab": {}
      },
      "cell_type": "code",
      "source": [
        "# send a review\n",
        "content = \"food was bad\"\n",
        "\n",
        "get_prediction(content, '[YOUR PROJECT ID]' ,'YOUR MODEL ID')"
      ],
      "execution_count": 0,
      "outputs": []
    },
    {
      "metadata": {
        "id": "qgUARQqMd9Hu",
        "colab_type": "text"
      },
      "cell_type": "markdown",
      "source": [
        "# Congratulations!\n",
        "\n",
        "You built an AutoML model and fetched prediction from it using Service Account credentials that can be deployed anywhere.\n",
        "\n",
        "You can look into using Cloud Functions that don't require you to use Service Accounts! Here's the same code for fetching predictions from within a Cloud function : https://github.com/ZackAkil/lazy-ways-to-build-ml-apps/blob/master/review%20my%20reviews/cloud%20function/main.py"
      ]
    },
    {
      "metadata": {
        "id": "9s-EOPE-ehOg",
        "colab_type": "code",
        "colab": {}
      },
      "cell_type": "code",
      "source": [
        ""
      ],
      "execution_count": 0,
      "outputs": []
    }
  ]
}