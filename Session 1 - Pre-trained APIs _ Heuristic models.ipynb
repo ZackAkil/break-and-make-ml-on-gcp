{
  "nbformat": 4,
  "nbformat_minor": 0,
  "metadata": {
    "colab": {
      "name": "Session 1 - Pre-trained APIs & Heuristic models.ipynb",
      "version": "0.3.2",
      "provenance": [],
      "include_colab_link": true
    },
    "kernelspec": {
      "display_name": "Python 3",
      "language": "python",
      "name": "python3"
    }
  },
  "cells": [
    {
      "cell_type": "markdown",
      "metadata": {
        "id": "view-in-github",
        "colab_type": "text"
      },
      "source": [
        "<a href=\"https://colab.research.google.com/github/ZackAkil/break-and-make-ml-on-gcp/blob/master/Session%201%20-%20Pre-trained%20APIs%20_%20Heuristic%20models.ipynb\" target=\"_parent\"><img src=\"https://colab.research.google.com/assets/colab-badge.svg\" alt=\"Open In Colab\"/></a>"
      ]
    },
    {
      "metadata": {
        "colab_type": "text",
        "id": "XC1AgrOs1Org"
      },
      "cell_type": "markdown",
      "source": [
        "# Session 1 - Pre-trained APIs & Heuristic models \n",
        "\n",
        "The easiest models to build are the ones that are already built for you. \n",
        "\n",
        "Google has already trained powerful generic models for [Vision](https://cloud.google.com/vision) and [Natural Language](https://cloud.google.com/natural-language/) that you can use via a REST API or client libraries."
      ]
    },
    {
      "metadata": {
        "colab_type": "code",
        "id": "ArudTrC-1Clf",
        "colab": {}
      },
      "cell_type": "code",
      "source": [
        "# import requests - using request to make api calls\n",
        "import requests\n",
        "import json\n",
        "import base64"
      ],
      "execution_count": 0,
      "outputs": []
    },
    {
      "metadata": {
        "id": "54s-GDWnOna1",
        "colab_type": "text"
      },
      "cell_type": "markdown",
      "source": [
        "Upload any image you want to the Colab environment using the files tab or run the following `wget` command to download a test image.\n",
        "\n",
        "The following code with download a test image from guthub:\n",
        "\n",
        "```bash\n",
        "!wget https://raw.githubusercontent.com/ZackAkil/break-and-make-ml-on-gcp/master/teapot.jpg\n",
        "```"
      ]
    },
    {
      "metadata": {
        "id": "O5-iYSQYOrU-",
        "colab_type": "code",
        "colab": {}
      },
      "cell_type": "code",
      "source": [
        ""
      ],
      "execution_count": 0,
      "outputs": []
    },
    {
      "metadata": {
        "id": "Wv7NvZeZR3D8",
        "colab_type": "text"
      },
      "cell_type": "markdown",
      "source": [
        "Convert the image you downloaded into base64 so that is can be sent to the Vision API:\n",
        "\n",
        "the following code gets teh byte data from a local file:\n",
        "\n",
        "```python\n",
        "with open(\"LOCAL IMAGE FILE NAME\", \"rb\") as image_file:\n",
        "    image_bytes = image_file.read()\n",
        "```\n",
        "\n",
        "the following code converts image bytes to base64:\n",
        "```python\n",
        "encoded_string = base64.b64encode(IMAGE_BYTES).decode('utf-8')\n",
        "```\n",
        "\n"
      ]
    },
    {
      "metadata": {
        "colab_type": "code",
        "id": "0gHgJ3gw6hsl",
        "colab": {}
      },
      "cell_type": "code",
      "source": [
        "# get local image and convert to base64\n",
        "\n"
      ],
      "execution_count": 0,
      "outputs": []
    },
    {
      "metadata": {
        "colab_type": "text",
        "id": "GkBgFKbk19e0"
      },
      "cell_type": "markdown",
      "source": [
        "https://cloud.google.com/vision"
      ]
    },
    {
      "metadata": {
        "id": "wd1wbI5NNmfw",
        "colab_type": "text"
      },
      "cell_type": "markdown",
      "source": [
        "Create request body that is sent to API:\n",
        "\n",
        "The sturcture of the request body is as follows:\n",
        "\n",
        "```javascript\n",
        "{\n",
        "  \"requests\":[\n",
        "    {\n",
        "      \"image\":{\n",
        "        \"content\": IMAGE DATA ENCODED AS BASE64\n",
        "      },\n",
        "      \"features\":[\n",
        "        {\n",
        "          \"type\":\"LABEL_DETECTION\",\n",
        "          \"maxResults\":20\n",
        "        }\n",
        "      ]\n",
        "    }\n",
        "  ]\n",
        "}\n",
        "\n",
        "```"
      ]
    },
    {
      "metadata": {
        "colab_type": "code",
        "id": "-l41WGFl2oGI",
        "colab": {}
      },
      "cell_type": "code",
      "source": [
        "body = '[YOUR_REQUEST_BODY]'"
      ],
      "execution_count": 0,
      "outputs": []
    },
    {
      "metadata": {
        "id": "H8XShxi3Nmf0",
        "colab_type": "text"
      },
      "cell_type": "markdown",
      "source": [
        "## Accessing the API\n",
        "You'll need to have your're own API key to called the API.\n",
        "\n",
        "In the Cloud Console, `API Keys & Authentication > Create new key > Create`\n",
        "\n",
        "<img height=300px src=\"https://raw.githubusercontent.com/ZackAkil/break-and-make-ml-on-gcp/master/screenshot/apikey.png\"/>"
      ]
    },
    {
      "metadata": {
        "colab_type": "code",
        "id": "tefDX8R41gDy",
        "colab": {}
      },
      "cell_type": "code",
      "source": [
        "API_KEY = '[YOUR API KEY]'\n",
        "\n",
        "req = requests.post('https://vision.googleapis.com/v1/images:annotate?key=' + API_KEY,\n",
        "                   headers = {'Content-Type':'application/json'},\n",
        "                   json = body)"
      ],
      "execution_count": 0,
      "outputs": []
    },
    {
      "metadata": {
        "id": "NT7wki1ONmf2",
        "colab_type": "text"
      },
      "cell_type": "markdown",
      "source": [
        "Look at the predicted labels (i.e the response from the API) by calling:\n",
        "\n",
        "```python\n",
        "req.json()\n",
        "```"
      ]
    },
    {
      "metadata": {
        "colab_type": "code",
        "id": "aj7WRggW4dBS",
        "colab": {}
      },
      "cell_type": "code",
      "source": [
        "# LOOK AT PREDICTED LABELS\n",
        "# WRITE YOUR CODE HERE \n"
      ],
      "execution_count": 0,
      "outputs": []
    },
    {
      "metadata": {
        "id": "9FXIsYx9Nmf8",
        "colab_type": "text"
      },
      "cell_type": "markdown",
      "source": [
        "## Build a simple tea pot detector\n",
        "Now that you can fetch generic labels from the API, you have enough information to check if the image is of something specific or not e.g is one of the labels \"Tea Pot\".\n",
        "\n",
        "### Task: \n",
        "Write a function that returns `true` if there is a \"Teapot\" in an image sent to the Vision API.\n",
        "\n",
        "```python\n",
        "is_teapot(req.json())\n",
        "```"
      ]
    },
    {
      "metadata": {
        "id": "cxatafPiNmf8",
        "colab_type": "code",
        "colab": {}
      },
      "cell_type": "code",
      "source": [
        "def is_teapot(request_json):\n",
        "    \n",
        "    # WRITE YOUR CODE HERE\n",
        " \n",
        "\n",
        "    return False\n",
        "\n",
        "# TESTS\n",
        "res_test_1 = {'responses': [{'labelAnnotations': [\n",
        "    {'description': 'Face',\n",
        "     'mid': '/m/0dzct',\n",
        "     'score': 0.97045726,\n",
        "     'topicality': 0.97045726},\n",
        "    {'description': 'Facial expression',\n",
        "     'mid': '/m/01k74n',\n",
        "     'score': 0.944795,\n",
        "     'topicality': 0.944795},\n",
        "    {'description': 'Facial hair',\n",
        "     'mid': '/m/0ds5b',\n",
        "     'score': 0.60713905,\n",
        "     'topicality': 0.60713905},\n",
        "    {'description': 'Art',\n",
        "     'mid': '/m/0jjw',\n",
        "     'score': 0.5021872,\n",
        "     'topicality': 0.5021872}]}]}\n",
        "\n",
        "res_test_2 = {'responses': [{'labelAnnotations': [\n",
        "    {'description': 'Face',\n",
        "     'mid': '/m/0dzct',\n",
        "     'score': 0.97045726,\n",
        "     'topicality': 0.97045726},\n",
        "    {'description': 'Facial expression',\n",
        "     'mid': '/m/01k74n',\n",
        "     'score': 0.944795,\n",
        "     'topicality': 0.944795},\n",
        "    {'description': 'Teapot',\n",
        "     'mid': '/m/0ds5b',\n",
        "     'score': 0.60713905,\n",
        "     'topicality': 0.60713905},\n",
        "    {'description': 'Art',\n",
        "     'mid': '/m/0jjw',\n",
        "     'score': 0.5021872,\n",
        "     'topicality': 0.5021872}]}]}\n",
        "\n",
        "if not is_teapot(res_test_1):\n",
        "    print(\"First test PASSED\")\n",
        "else:\n",
        "    print(\"First test FAILED\")\n",
        "\n",
        "if is_teapot(res_test_2):\n",
        "    print(\"Second test PASSED\")\n",
        "else:\n",
        "    print(\"Second test FAILED\")"
      ],
      "execution_count": 0,
      "outputs": []
    },
    {
      "metadata": {
        "colab_type": "text",
        "id": "V3v_1q3c1hG3"
      },
      "cell_type": "markdown",
      "source": [
        "# Heuristic models\n",
        "Before you embark on large machine learning projects, it's important you first try to solve the problem using traditional code i.e. `if` statements and `loops`. \n",
        "\n",
        "This will serve to clarify what machine learning is trying to solve and it might even already solve the problem saving you from investing more time into more complex machine learning."
      ]
    },
    {
      "metadata": {
        "id": "qTrSc_SPNmgC",
        "colab_type": "text"
      },
      "cell_type": "markdown",
      "source": [
        "### Download dataset from Google Cloud Storage\n",
        "There is a public csv file stored a Cloud Storage Bucket.\n",
        "You can download it using the `gsutil` (Google Storage Utilities) which is build into Colab:\n",
        "\n",
        "```bash\n",
        "!gsutil cp gs://zacks-fun-datasets/works_in_ml.csv .\n",
        "```"
      ]
    },
    {
      "metadata": {
        "id": "ZRtupivLNmgD",
        "colab_type": "code",
        "colab": {}
      },
      "cell_type": "code",
      "source": [
        ""
      ],
      "execution_count": 0,
      "outputs": []
    },
    {
      "metadata": {
        "id": "ahnRc1toSv7k",
        "colab_type": "text"
      },
      "cell_type": "markdown",
      "source": [
        "import the downloaded file to Colab using pandas"
      ]
    },
    {
      "metadata": {
        "colab_type": "code",
        "id": "lA6HC2db1mJS",
        "colab": {}
      },
      "cell_type": "code",
      "source": [
        "import pandas as pd\n",
        "\n",
        "# look at data\n",
        "data = pd.read_csv('[LOCAL DATA FILE NAME]')\n",
        "data"
      ],
      "execution_count": 0,
      "outputs": []
    },
    {
      "metadata": {
        "id": "LndL0fzrVl3z",
        "colab_type": "text"
      },
      "cell_type": "markdown",
      "source": [
        "examine the datat using matplotlib:\n",
        "\n",
        "import matplotlib using:\n",
        "\n",
        "```python\n",
        "import matplotlib.pyplot as plt\n",
        "```\n",
        "\n",
        "create plots using:\n",
        "```python\n",
        "plt.scatter(data['ML Tweets'], data['ML Blogs'], c=data['Works in ML'])\n",
        "```\n"
      ]
    },
    {
      "metadata": {
        "colab_type": "code",
        "id": "LBMgg7dl1o3x",
        "colab": {}
      },
      "cell_type": "code",
      "source": [
        "# explore the data\n"
      ],
      "execution_count": 0,
      "outputs": []
    },
    {
      "metadata": {
        "id": "iYSsphKkV-0a",
        "colab_type": "code",
        "colab": {}
      },
      "cell_type": "code",
      "source": [
        ""
      ],
      "execution_count": 0,
      "outputs": []
    },
    {
      "metadata": {
        "id": "pY24pVVOV_Ky",
        "colab_type": "code",
        "colab": {}
      },
      "cell_type": "code",
      "source": [
        ""
      ],
      "execution_count": 0,
      "outputs": []
    },
    {
      "metadata": {
        "id": "vw6zp7YeS9iX",
        "colab_type": "text"
      },
      "cell_type": "markdown",
      "source": [
        "There is a tool in pandas called [corr](https://pandas.pydata.org/pandas-docs/stable/reference/api/pandas.DataFrame.corr.html) which might help"
      ]
    },
    {
      "metadata": {
        "id": "LM4SnLePNmgT",
        "colab_type": "code",
        "colab": {}
      },
      "cell_type": "code",
      "source": [
        "# check for clear correlations between input data and output label\n"
      ],
      "execution_count": 0,
      "outputs": []
    },
    {
      "metadata": {
        "id": "G4P_Ra0sWBsv",
        "colab_type": "text"
      },
      "cell_type": "markdown",
      "source": [
        "build a simple model for making prediction using a simple `if` satement:"
      ]
    },
    {
      "metadata": {
        "id": "jSms4aDENmgZ",
        "colab_type": "code",
        "colab": {}
      },
      "cell_type": "code",
      "source": [
        "# create model\n",
        "def model(x):\n",
        "    '''\n",
        "      x = input data frame\n",
        "    '''\n",
        "\n",
        "\n",
        "    return False"
      ],
      "execution_count": 0,
      "outputs": []
    },
    {
      "metadata": {
        "id": "M4KwAMHdQFOE",
        "colab_type": "text"
      },
      "cell_type": "markdown",
      "source": [
        "## Test the accuracy of your model\n",
        "\n",
        "Using a accuracy metric from SciKit Learn:\n",
        "\n",
        "```python\n",
        "from sklearn.metrics import accuracy_score\n",
        "```"
      ]
    },
    {
      "metadata": {
        "id": "IDPBPxQnNmgd",
        "colab_type": "code",
        "colab": {}
      },
      "cell_type": "code",
      "source": [
        "# test model performance\n",
        "\n"
      ],
      "execution_count": 0,
      "outputs": []
    },
    {
      "metadata": {
        "id": "x8kcsXh-Wdu5",
        "colab_type": "text"
      },
      "cell_type": "markdown",
      "source": [
        "Take your model and put it in a Cloud Function:\n",
        "\n",
        "<img height=300px src=\"https://raw.githubusercontent.com/ZackAkil/break-and-make-ml-on-gcp/master/screenshot/cloudfunction.png\">\n"
      ]
    },
    {
      "metadata": {
        "colab_type": "code",
        "id": "LAUMYfvF1uX7",
        "colab": {}
      },
      "cell_type": "code",
      "source": [
        "# call the cloud function you just created\n",
        "\n",
        "req = requests.post('URL TO YOUR CLOUD FUNCTION',\n",
        "                   json = {\"ML Talks\":10, \"ML Tweets\": 5, \"ML Blogs\": 1, \"ML Videos\": 23})\n",
        "\n",
        "req.json()"
      ],
      "execution_count": 0,
      "outputs": []
    },
    {
      "metadata": {
        "id": "Gmqs50pMQ5Ma",
        "colab_type": "text"
      },
      "cell_type": "markdown",
      "source": [
        "# Congratulations!\n",
        "You successfully build 2 models that could work in production using the pre-trained Vision API and CLoud Functions!\n",
        "\n",
        "Maybe play aroudn with the other annotation features of the Vison API e.g. face emotion detection, or upload version 2 of your Cloud Function with a better performing heuristic model"
      ]
    },
    {
      "metadata": {
        "id": "WTjfBdBnRjd6",
        "colab_type": "code",
        "colab": {}
      },
      "cell_type": "code",
      "source": [
        ""
      ],
      "execution_count": 0,
      "outputs": []
    }
  ]
}