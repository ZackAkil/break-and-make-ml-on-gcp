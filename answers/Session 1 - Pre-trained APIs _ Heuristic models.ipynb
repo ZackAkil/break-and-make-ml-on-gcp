{
  "nbformat": 4,
  "nbformat_minor": 0,
  "metadata": {
    "colab": {
      "name": "Session 1 - Pre-trained APIs & Heuristic models.ipynb",
      "version": "0.3.2",
      "provenance": [],
      "include_colab_link": true
    },
    "kernelspec": {
      "display_name": "Python 3",
      "language": "python",
      "name": "python3"
    }
  },
  "cells": [
    {
      "cell_type": "markdown",
      "metadata": {
        "id": "view-in-github",
        "colab_type": "text"
      },
      "source": [
        "<a href=\"https://colab.research.google.com/github/ZackAkil/break-and-make-ml-on-gcp/blob/master/answers/Session%201%20-%20Pre-trained%20APIs%20_%20Heuristic%20models.ipynb\" target=\"_parent\"><img src=\"https://colab.research.google.com/assets/colab-badge.svg\" alt=\"Open In Colab\"/></a>"
      ]
    },
    {
      "metadata": {
        "colab_type": "text",
        "id": "XC1AgrOs1Org"
      },
      "cell_type": "markdown",
      "source": [
        "# Session 1 - Pre-trained APIs & Heuristic models \n",
        "\n",
        "The easiest models to build are the ones that are already built for you. \n",
        "\n",
        "Google has already trained powerful generic models for [Vision](https://cloud.google.com/vision) and [Natural Language](https://cloud.google.com/natural-language/) that you can use via a REST API or client libraries."
      ]
    },
    {
      "metadata": {
        "colab_type": "code",
        "id": "ArudTrC-1Clf",
        "colab": {}
      },
      "cell_type": "code",
      "source": [
        "# import requests - using request to make api calls\n",
        "import requests\n",
        "import json\n",
        "import base64"
      ],
      "execution_count": 0,
      "outputs": []
    },
    {
      "metadata": {
        "id": "54s-GDWnOna1",
        "colab_type": "text"
      },
      "cell_type": "markdown",
      "source": [
        "Upload any image you want to the Colab environment using the files tab or run the following `wget` command to download a test image.\n",
        "\n",
        "The following code with download a test image from guthub:\n",
        "\n",
        "```bash\n",
        "!wget https://raw.githubusercontent.com/ZackAkil/break-and-make-ml-on-gcp/master/teapot.jpg\n",
        "```"
      ]
    },
    {
      "metadata": {
        "id": "O5-iYSQYOrU-",
        "colab_type": "code",
        "colab": {}
      },
      "cell_type": "code",
      "source": [
        ""
      ],
      "execution_count": 0,
      "outputs": []
    },
    {
      "metadata": {
        "id": "Wv7NvZeZR3D8",
        "colab_type": "text"
      },
      "cell_type": "markdown",
      "source": [
        "Convert the image you downloaded into base64 so that is can be sent to the Vision API:\n",
        "\n",
        "the following code gets teh byte data from a local file:\n",
        "\n",
        "```python\n",
        "with open(\"LOCAL IMAGE FILE NAME\", \"rb\") as image_file:\n",
        "    image_bytes = image_file.read()\n",
        "```\n",
        "\n",
        "the following code converts image bytes to base64:\n",
        "```python\n",
        "encoded_string = base64.b64encode(IMAGE_BYTES).decode('utf-8')\n",
        "```\n",
        "\n"
      ]
    },
    {
      "metadata": {
        "colab_type": "code",
        "id": "0gHgJ3gw6hsl",
        "colab": {}
      },
      "cell_type": "code",
      "source": [
        "# get local image and convert to base64\n",
        "\n"
      ],
      "execution_count": 0,
      "outputs": []
    },
    {
      "metadata": {
        "colab_type": "text",
        "id": "GkBgFKbk19e0"
      },
      "cell_type": "markdown",
      "source": [
        "https://cloud.google.com/vision"
      ]
    },
    {
      "metadata": {
        "id": "wd1wbI5NNmfw",
        "colab_type": "text"
      },
      "cell_type": "markdown",
      "source": [
        "Create request body that is sent to API:\n",
        "\n",
        "The sturcture of the request body is as follows:\n",
        "\n",
        "```javascript\n",
        "{\n",
        "  \"requests\":[\n",
        "    {\n",
        "      \"image\":{\n",
        "        \"content\": IMAGE DATA ENCODED AS BASE64\n",
        "      },\n",
        "      \"features\":[\n",
        "        {\n",
        "          \"type\":\"LABEL_DETECTION\",\n",
        "          \"maxResults\":20\n",
        "        }\n",
        "      ]\n",
        "    }\n",
        "  ]\n",
        "}\n",
        "\n",
        "```"
      ]
    },
    {
      "metadata": {
        "colab_type": "code",
        "id": "-l41WGFl2oGI",
        "colab": {}
      },
      "cell_type": "code",
      "source": [
        "body = '[YOUR_REQUEST_BODY]'"
      ],
      "execution_count": 0,
      "outputs": []
    },
    {
      "metadata": {
        "id": "H8XShxi3Nmf0",
        "colab_type": "text"
      },
      "cell_type": "markdown",
      "source": [
        "## Accessing the API\n",
        "You'll need to have your're own API key to called the API.\n",
        "\n",
        "In the Cloud Console, `API Keys & Authentication > Create new key > Create`\n",
        "\n",
        "<img height=300px src=\"https://raw.githubusercontent.com/ZackAkil/break-and-make-ml-on-gcp/master/screenshot/apikey.png\"/>"
      ]
    },
    {
      "metadata": {
        "colab_type": "code",
        "id": "tefDX8R41gDy",
        "colab": {}
      },
      "cell_type": "code",
      "source": [
        "API_KEY = '[YOUR API KEY]'\n",
        "\n",
        "req = requests.post('https://vision.googleapis.com/v1/images:annotate?key=' + API_KEY,\n",
        "                   headers = {'Content-Type':'application/json'},\n",
        "                   json = body)"
      ],
      "execution_count": 0,
      "outputs": []
    },
    {
      "metadata": {
        "id": "NT7wki1ONmf2",
        "colab_type": "text"
      },
      "cell_type": "markdown",
      "source": [
        "Look at the predicted labels (i.e the response from the API) by calling:\n",
        "\n",
        "```python\n",
        "req.json()\n",
        "```"
      ]
    },
    {
      "metadata": {
        "colab_type": "code",
        "id": "aj7WRggW4dBS",
        "colab": {}
      },
      "cell_type": "code",
      "source": [
        "# LOOK AT PREDICTED LABELS\n",
        "# WRITE YOUR CODE HERE \n"
      ],
      "execution_count": 0,
      "outputs": []
    },
    {
      "metadata": {
        "id": "9FXIsYx9Nmf8",
        "colab_type": "text"
      },
      "cell_type": "markdown",
      "source": [
        "## Build a simple tea pot detector\n",
        "Now that you can fetch generic labels from the API, you have enough information to check if the image is of something specific or not e.g is one of the labels \"Tea Pot\".\n",
        "\n",
        "### Task: \n",
        "Write a function that returns `true` if there is a \"Teapot\" in an image sent to the Vision API.\n",
        "\n",
        "```python\n",
        "is_teapot(req.json())\n",
        "```"
      ]
    },
    {
      "metadata": {
        "id": "cxatafPiNmf8",
        "colab_type": "code",
        "colab": {}
      },
      "cell_type": "code",
      "source": [
        "def is_teapot(request_json):\n",
        "    \n",
        "    # WRITE YOUR CODE HERE\n",
        " \n",
        "\n",
        "    return False\n",
        "\n",
        "# TESTS\n",
        "res_test_1 = {'responses': [{'labelAnnotations': [\n",
        "    {'description': 'Face',\n",
        "     'mid': '/m/0dzct',\n",
        "     'score': 0.97045726,\n",
        "     'topicality': 0.97045726},\n",
        "    {'description': 'Facial expression',\n",
        "     'mid': '/m/01k74n',\n",
        "     'score': 0.944795,\n",
        "     'topicality': 0.944795},\n",
        "    {'description': 'Facial hair',\n",
        "     'mid': '/m/0ds5b',\n",
        "     'score': 0.60713905,\n",
        "     'topicality': 0.60713905},\n",
        "    {'description': 'Art',\n",
        "     'mid': '/m/0jjw',\n",
        "     'score': 0.5021872,\n",
        "     'topicality': 0.5021872}]}]}\n",
        "\n",
        "res_test_2 = {'responses': [{'labelAnnotations': [\n",
        "    {'description': 'Face',\n",
        "     'mid': '/m/0dzct',\n",
        "     'score': 0.97045726,\n",
        "     'topicality': 0.97045726},\n",
        "    {'description': 'Facial expression',\n",
        "     'mid': '/m/01k74n',\n",
        "     'score': 0.944795,\n",
        "     'topicality': 0.944795},\n",
        "    {'description': 'Teapot',\n",
        "     'mid': '/m/0ds5b',\n",
        "     'score': 0.60713905,\n",
        "     'topicality': 0.60713905},\n",
        "    {'description': 'Art',\n",
        "     'mid': '/m/0jjw',\n",
        "     'score': 0.5021872,\n",
        "     'topicality': 0.5021872}]}]}\n",
        "\n",
        "if not is_teapot(res_test_1):\n",
        "    print(\"First test PASSED\")\n",
        "else:\n",
        "    print(\"First test FAILED\")\n",
        "\n",
        "if is_teapot(res_test_2):\n",
        "    print(\"Second test PASSED\")\n",
        "else:\n",
        "    print(\"Second test FAILED\")"
      ],
      "execution_count": 0,
      "outputs": []
    },
    {
      "metadata": {
        "colab_type": "text",
        "id": "V3v_1q3c1hG3"
      },
      "cell_type": "markdown",
      "source": [
        "# Heuristic models\n",
        "Before you embark on large machine learning projects, it's important you first try to solve the problem using traditional code i.e. `if` statements and `loops`. \n",
        "\n",
        "This will serve to clarify what machine learning is trying to solve and it might even already solve the problem saving you from investing more time into more complex machine learning."
      ]
    },
    {
      "metadata": {
        "id": "qTrSc_SPNmgC",
        "colab_type": "text"
      },
      "cell_type": "markdown",
      "source": [
        "### Download dataset from Google Cloud Storage\n",
        "There is a public csv file stored a Cloud Storage Bucket.\n",
        "You can download it using the `gsutil` (Google Storage Utilities) which is build into Colab:\n",
        "\n",
        "```bash\n",
        "!gsutil cp gs://zacks-fun-datasets/works_in_ml.csv .\n",
        "```"
      ]
    },
    {
      "metadata": {
        "id": "ZRtupivLNmgD",
        "colab_type": "code",
        "colab": {
          "base_uri": "https://localhost:8080/",
          "height": 88
        },
        "outputId": "06e1f57b-f5fc-48b4-981a-b07b26867e33"
      },
      "cell_type": "code",
      "source": [
        "!gsutil cp gs://zacks-fun-datasets/works_in_ml.csv ."
      ],
      "execution_count": 2,
      "outputs": [
        {
          "output_type": "stream",
          "text": [
            "Copying gs://zacks-fun-datasets/works_in_ml.csv...\n",
            "/ [1 files][  1.4 KiB/  1.4 KiB]                                                \n",
            "Operation completed over 1 objects/1.4 KiB.                                      \n"
          ],
          "name": "stdout"
        }
      ]
    },
    {
      "metadata": {
        "id": "ahnRc1toSv7k",
        "colab_type": "text"
      },
      "cell_type": "markdown",
      "source": [
        "import the downloaded file to Colab using pandas"
      ]
    },
    {
      "metadata": {
        "colab_type": "code",
        "id": "lA6HC2db1mJS",
        "colab": {
          "base_uri": "https://localhost:8080/",
          "height": 1960
        },
        "outputId": "8f2dbabf-31e6-4c02-d433-ec95a20d4297"
      },
      "cell_type": "code",
      "source": [
        "import pandas as pd\n",
        "\n",
        "# look at data\n",
        "data = pd.read_csv('works_in_ml.csv')\n",
        "data"
      ],
      "execution_count": 3,
      "outputs": [
        {
          "output_type": "execute_result",
          "data": {
            "text/html": [
              "<div>\n",
              "<style scoped>\n",
              "    .dataframe tbody tr th:only-of-type {\n",
              "        vertical-align: middle;\n",
              "    }\n",
              "\n",
              "    .dataframe tbody tr th {\n",
              "        vertical-align: top;\n",
              "    }\n",
              "\n",
              "    .dataframe thead th {\n",
              "        text-align: right;\n",
              "    }\n",
              "</style>\n",
              "<table border=\"1\" class=\"dataframe\">\n",
              "  <thead>\n",
              "    <tr style=\"text-align: right;\">\n",
              "      <th></th>\n",
              "      <th>ML Tweets</th>\n",
              "      <th>ML Blogs</th>\n",
              "      <th>ML Videos</th>\n",
              "      <th>ML Talks</th>\n",
              "      <th>Works in ML</th>\n",
              "    </tr>\n",
              "  </thead>\n",
              "  <tbody>\n",
              "    <tr>\n",
              "      <th>0</th>\n",
              "      <td>19</td>\n",
              "      <td>33</td>\n",
              "      <td>23</td>\n",
              "      <td>29</td>\n",
              "      <td>1</td>\n",
              "    </tr>\n",
              "    <tr>\n",
              "      <th>1</th>\n",
              "      <td>8</td>\n",
              "      <td>17</td>\n",
              "      <td>0</td>\n",
              "      <td>16</td>\n",
              "      <td>0</td>\n",
              "    </tr>\n",
              "    <tr>\n",
              "      <th>2</th>\n",
              "      <td>17</td>\n",
              "      <td>19</td>\n",
              "      <td>12</td>\n",
              "      <td>19</td>\n",
              "      <td>1</td>\n",
              "    </tr>\n",
              "    <tr>\n",
              "      <th>3</th>\n",
              "      <td>19</td>\n",
              "      <td>12</td>\n",
              "      <td>16</td>\n",
              "      <td>25</td>\n",
              "      <td>0</td>\n",
              "    </tr>\n",
              "    <tr>\n",
              "      <th>4</th>\n",
              "      <td>20</td>\n",
              "      <td>5</td>\n",
              "      <td>24</td>\n",
              "      <td>15</td>\n",
              "      <td>0</td>\n",
              "    </tr>\n",
              "    <tr>\n",
              "      <th>5</th>\n",
              "      <td>20</td>\n",
              "      <td>20</td>\n",
              "      <td>24</td>\n",
              "      <td>16</td>\n",
              "      <td>0</td>\n",
              "    </tr>\n",
              "    <tr>\n",
              "      <th>6</th>\n",
              "      <td>15</td>\n",
              "      <td>6</td>\n",
              "      <td>5</td>\n",
              "      <td>20</td>\n",
              "      <td>0</td>\n",
              "    </tr>\n",
              "    <tr>\n",
              "      <th>7</th>\n",
              "      <td>25</td>\n",
              "      <td>20</td>\n",
              "      <td>16</td>\n",
              "      <td>13</td>\n",
              "      <td>0</td>\n",
              "    </tr>\n",
              "    <tr>\n",
              "      <th>8</th>\n",
              "      <td>14</td>\n",
              "      <td>27</td>\n",
              "      <td>11</td>\n",
              "      <td>29</td>\n",
              "      <td>1</td>\n",
              "    </tr>\n",
              "    <tr>\n",
              "      <th>9</th>\n",
              "      <td>16</td>\n",
              "      <td>6</td>\n",
              "      <td>6</td>\n",
              "      <td>24</td>\n",
              "      <td>1</td>\n",
              "    </tr>\n",
              "    <tr>\n",
              "      <th>10</th>\n",
              "      <td>24</td>\n",
              "      <td>17</td>\n",
              "      <td>21</td>\n",
              "      <td>18</td>\n",
              "      <td>0</td>\n",
              "    </tr>\n",
              "    <tr>\n",
              "      <th>11</th>\n",
              "      <td>18</td>\n",
              "      <td>21</td>\n",
              "      <td>22</td>\n",
              "      <td>17</td>\n",
              "      <td>0</td>\n",
              "    </tr>\n",
              "    <tr>\n",
              "      <th>12</th>\n",
              "      <td>22</td>\n",
              "      <td>17</td>\n",
              "      <td>21</td>\n",
              "      <td>16</td>\n",
              "      <td>0</td>\n",
              "    </tr>\n",
              "    <tr>\n",
              "      <th>13</th>\n",
              "      <td>23</td>\n",
              "      <td>18</td>\n",
              "      <td>11</td>\n",
              "      <td>20</td>\n",
              "      <td>1</td>\n",
              "    </tr>\n",
              "    <tr>\n",
              "      <th>14</th>\n",
              "      <td>26</td>\n",
              "      <td>17</td>\n",
              "      <td>17</td>\n",
              "      <td>12</td>\n",
              "      <td>0</td>\n",
              "    </tr>\n",
              "    <tr>\n",
              "      <th>15</th>\n",
              "      <td>13</td>\n",
              "      <td>24</td>\n",
              "      <td>22</td>\n",
              "      <td>9</td>\n",
              "      <td>0</td>\n",
              "    </tr>\n",
              "    <tr>\n",
              "      <th>16</th>\n",
              "      <td>15</td>\n",
              "      <td>12</td>\n",
              "      <td>13</td>\n",
              "      <td>19</td>\n",
              "      <td>1</td>\n",
              "    </tr>\n",
              "    <tr>\n",
              "      <th>17</th>\n",
              "      <td>9</td>\n",
              "      <td>24</td>\n",
              "      <td>17</td>\n",
              "      <td>18</td>\n",
              "      <td>1</td>\n",
              "    </tr>\n",
              "    <tr>\n",
              "      <th>18</th>\n",
              "      <td>18</td>\n",
              "      <td>10</td>\n",
              "      <td>15</td>\n",
              "      <td>13</td>\n",
              "      <td>0</td>\n",
              "    </tr>\n",
              "    <tr>\n",
              "      <th>19</th>\n",
              "      <td>9</td>\n",
              "      <td>22</td>\n",
              "      <td>20</td>\n",
              "      <td>19</td>\n",
              "      <td>0</td>\n",
              "    </tr>\n",
              "    <tr>\n",
              "      <th>20</th>\n",
              "      <td>22</td>\n",
              "      <td>23</td>\n",
              "      <td>24</td>\n",
              "      <td>8</td>\n",
              "      <td>0</td>\n",
              "    </tr>\n",
              "    <tr>\n",
              "      <th>21</th>\n",
              "      <td>22</td>\n",
              "      <td>9</td>\n",
              "      <td>16</td>\n",
              "      <td>16</td>\n",
              "      <td>0</td>\n",
              "    </tr>\n",
              "    <tr>\n",
              "      <th>22</th>\n",
              "      <td>19</td>\n",
              "      <td>20</td>\n",
              "      <td>27</td>\n",
              "      <td>5</td>\n",
              "      <td>0</td>\n",
              "    </tr>\n",
              "    <tr>\n",
              "      <th>23</th>\n",
              "      <td>21</td>\n",
              "      <td>20</td>\n",
              "      <td>28</td>\n",
              "      <td>8</td>\n",
              "      <td>0</td>\n",
              "    </tr>\n",
              "    <tr>\n",
              "      <th>24</th>\n",
              "      <td>24</td>\n",
              "      <td>12</td>\n",
              "      <td>10</td>\n",
              "      <td>23</td>\n",
              "      <td>1</td>\n",
              "    </tr>\n",
              "    <tr>\n",
              "      <th>25</th>\n",
              "      <td>16</td>\n",
              "      <td>16</td>\n",
              "      <td>0</td>\n",
              "      <td>14</td>\n",
              "      <td>0</td>\n",
              "    </tr>\n",
              "    <tr>\n",
              "      <th>26</th>\n",
              "      <td>21</td>\n",
              "      <td>14</td>\n",
              "      <td>11</td>\n",
              "      <td>28</td>\n",
              "      <td>1</td>\n",
              "    </tr>\n",
              "    <tr>\n",
              "      <th>27</th>\n",
              "      <td>13</td>\n",
              "      <td>17</td>\n",
              "      <td>7</td>\n",
              "      <td>16</td>\n",
              "      <td>1</td>\n",
              "    </tr>\n",
              "    <tr>\n",
              "      <th>28</th>\n",
              "      <td>15</td>\n",
              "      <td>27</td>\n",
              "      <td>22</td>\n",
              "      <td>2</td>\n",
              "      <td>0</td>\n",
              "    </tr>\n",
              "    <tr>\n",
              "      <th>29</th>\n",
              "      <td>10</td>\n",
              "      <td>20</td>\n",
              "      <td>18</td>\n",
              "      <td>21</td>\n",
              "      <td>1</td>\n",
              "    </tr>\n",
              "    <tr>\n",
              "      <th>...</th>\n",
              "      <td>...</td>\n",
              "      <td>...</td>\n",
              "      <td>...</td>\n",
              "      <td>...</td>\n",
              "      <td>...</td>\n",
              "    </tr>\n",
              "    <tr>\n",
              "      <th>70</th>\n",
              "      <td>15</td>\n",
              "      <td>-1</td>\n",
              "      <td>1</td>\n",
              "      <td>26</td>\n",
              "      <td>1</td>\n",
              "    </tr>\n",
              "    <tr>\n",
              "      <th>71</th>\n",
              "      <td>13</td>\n",
              "      <td>15</td>\n",
              "      <td>14</td>\n",
              "      <td>15</td>\n",
              "      <td>1</td>\n",
              "    </tr>\n",
              "    <tr>\n",
              "      <th>72</th>\n",
              "      <td>20</td>\n",
              "      <td>30</td>\n",
              "      <td>14</td>\n",
              "      <td>31</td>\n",
              "      <td>1</td>\n",
              "    </tr>\n",
              "    <tr>\n",
              "      <th>73</th>\n",
              "      <td>13</td>\n",
              "      <td>15</td>\n",
              "      <td>15</td>\n",
              "      <td>20</td>\n",
              "      <td>1</td>\n",
              "    </tr>\n",
              "    <tr>\n",
              "      <th>74</th>\n",
              "      <td>13</td>\n",
              "      <td>9</td>\n",
              "      <td>18</td>\n",
              "      <td>19</td>\n",
              "      <td>0</td>\n",
              "    </tr>\n",
              "    <tr>\n",
              "      <th>75</th>\n",
              "      <td>22</td>\n",
              "      <td>10</td>\n",
              "      <td>7</td>\n",
              "      <td>22</td>\n",
              "      <td>1</td>\n",
              "    </tr>\n",
              "    <tr>\n",
              "      <th>76</th>\n",
              "      <td>27</td>\n",
              "      <td>19</td>\n",
              "      <td>17</td>\n",
              "      <td>12</td>\n",
              "      <td>0</td>\n",
              "    </tr>\n",
              "    <tr>\n",
              "      <th>77</th>\n",
              "      <td>15</td>\n",
              "      <td>35</td>\n",
              "      <td>13</td>\n",
              "      <td>29</td>\n",
              "      <td>1</td>\n",
              "    </tr>\n",
              "    <tr>\n",
              "      <th>78</th>\n",
              "      <td>17</td>\n",
              "      <td>14</td>\n",
              "      <td>15</td>\n",
              "      <td>25</td>\n",
              "      <td>1</td>\n",
              "    </tr>\n",
              "    <tr>\n",
              "      <th>79</th>\n",
              "      <td>16</td>\n",
              "      <td>14</td>\n",
              "      <td>11</td>\n",
              "      <td>18</td>\n",
              "      <td>1</td>\n",
              "    </tr>\n",
              "    <tr>\n",
              "      <th>80</th>\n",
              "      <td>14</td>\n",
              "      <td>13</td>\n",
              "      <td>6</td>\n",
              "      <td>21</td>\n",
              "      <td>0</td>\n",
              "    </tr>\n",
              "    <tr>\n",
              "      <th>81</th>\n",
              "      <td>31</td>\n",
              "      <td>17</td>\n",
              "      <td>16</td>\n",
              "      <td>20</td>\n",
              "      <td>0</td>\n",
              "    </tr>\n",
              "    <tr>\n",
              "      <th>82</th>\n",
              "      <td>23</td>\n",
              "      <td>0</td>\n",
              "      <td>5</td>\n",
              "      <td>23</td>\n",
              "      <td>1</td>\n",
              "    </tr>\n",
              "    <tr>\n",
              "      <th>83</th>\n",
              "      <td>10</td>\n",
              "      <td>8</td>\n",
              "      <td>9</td>\n",
              "      <td>23</td>\n",
              "      <td>1</td>\n",
              "    </tr>\n",
              "    <tr>\n",
              "      <th>84</th>\n",
              "      <td>17</td>\n",
              "      <td>7</td>\n",
              "      <td>18</td>\n",
              "      <td>11</td>\n",
              "      <td>1</td>\n",
              "    </tr>\n",
              "    <tr>\n",
              "      <th>85</th>\n",
              "      <td>17</td>\n",
              "      <td>20</td>\n",
              "      <td>0</td>\n",
              "      <td>17</td>\n",
              "      <td>0</td>\n",
              "    </tr>\n",
              "    <tr>\n",
              "      <th>86</th>\n",
              "      <td>15</td>\n",
              "      <td>7</td>\n",
              "      <td>23</td>\n",
              "      <td>3</td>\n",
              "      <td>0</td>\n",
              "    </tr>\n",
              "    <tr>\n",
              "      <th>87</th>\n",
              "      <td>13</td>\n",
              "      <td>21</td>\n",
              "      <td>18</td>\n",
              "      <td>9</td>\n",
              "      <td>0</td>\n",
              "    </tr>\n",
              "    <tr>\n",
              "      <th>88</th>\n",
              "      <td>19</td>\n",
              "      <td>6</td>\n",
              "      <td>17</td>\n",
              "      <td>5</td>\n",
              "      <td>0</td>\n",
              "    </tr>\n",
              "    <tr>\n",
              "      <th>89</th>\n",
              "      <td>16</td>\n",
              "      <td>15</td>\n",
              "      <td>8</td>\n",
              "      <td>18</td>\n",
              "      <td>1</td>\n",
              "    </tr>\n",
              "    <tr>\n",
              "      <th>90</th>\n",
              "      <td>13</td>\n",
              "      <td>7</td>\n",
              "      <td>14</td>\n",
              "      <td>4</td>\n",
              "      <td>0</td>\n",
              "    </tr>\n",
              "    <tr>\n",
              "      <th>91</th>\n",
              "      <td>21</td>\n",
              "      <td>11</td>\n",
              "      <td>16</td>\n",
              "      <td>11</td>\n",
              "      <td>0</td>\n",
              "    </tr>\n",
              "    <tr>\n",
              "      <th>92</th>\n",
              "      <td>27</td>\n",
              "      <td>10</td>\n",
              "      <td>22</td>\n",
              "      <td>14</td>\n",
              "      <td>0</td>\n",
              "    </tr>\n",
              "    <tr>\n",
              "      <th>93</th>\n",
              "      <td>8</td>\n",
              "      <td>19</td>\n",
              "      <td>31</td>\n",
              "      <td>16</td>\n",
              "      <td>1</td>\n",
              "    </tr>\n",
              "    <tr>\n",
              "      <th>94</th>\n",
              "      <td>11</td>\n",
              "      <td>1</td>\n",
              "      <td>14</td>\n",
              "      <td>5</td>\n",
              "      <td>0</td>\n",
              "    </tr>\n",
              "    <tr>\n",
              "      <th>95</th>\n",
              "      <td>18</td>\n",
              "      <td>12</td>\n",
              "      <td>8</td>\n",
              "      <td>18</td>\n",
              "      <td>0</td>\n",
              "    </tr>\n",
              "    <tr>\n",
              "      <th>96</th>\n",
              "      <td>18</td>\n",
              "      <td>29</td>\n",
              "      <td>18</td>\n",
              "      <td>28</td>\n",
              "      <td>1</td>\n",
              "    </tr>\n",
              "    <tr>\n",
              "      <th>97</th>\n",
              "      <td>11</td>\n",
              "      <td>0</td>\n",
              "      <td>2</td>\n",
              "      <td>1</td>\n",
              "      <td>0</td>\n",
              "    </tr>\n",
              "    <tr>\n",
              "      <th>98</th>\n",
              "      <td>19</td>\n",
              "      <td>9</td>\n",
              "      <td>12</td>\n",
              "      <td>15</td>\n",
              "      <td>0</td>\n",
              "    </tr>\n",
              "    <tr>\n",
              "      <th>99</th>\n",
              "      <td>15</td>\n",
              "      <td>9</td>\n",
              "      <td>25</td>\n",
              "      <td>14</td>\n",
              "      <td>0</td>\n",
              "    </tr>\n",
              "  </tbody>\n",
              "</table>\n",
              "<p>100 rows × 5 columns</p>\n",
              "</div>"
            ],
            "text/plain": [
              "    ML Tweets  ML Blogs  ML Videos  ML Talks  Works in ML\n",
              "0          19        33         23        29            1\n",
              "1           8        17          0        16            0\n",
              "2          17        19         12        19            1\n",
              "3          19        12         16        25            0\n",
              "4          20         5         24        15            0\n",
              "5          20        20         24        16            0\n",
              "6          15         6          5        20            0\n",
              "7          25        20         16        13            0\n",
              "8          14        27         11        29            1\n",
              "9          16         6          6        24            1\n",
              "10         24        17         21        18            0\n",
              "11         18        21         22        17            0\n",
              "12         22        17         21        16            0\n",
              "13         23        18         11        20            1\n",
              "14         26        17         17        12            0\n",
              "15         13        24         22         9            0\n",
              "16         15        12         13        19            1\n",
              "17          9        24         17        18            1\n",
              "18         18        10         15        13            0\n",
              "19          9        22         20        19            0\n",
              "20         22        23         24         8            0\n",
              "21         22         9         16        16            0\n",
              "22         19        20         27         5            0\n",
              "23         21        20         28         8            0\n",
              "24         24        12         10        23            1\n",
              "25         16        16          0        14            0\n",
              "26         21        14         11        28            1\n",
              "27         13        17          7        16            1\n",
              "28         15        27         22         2            0\n",
              "29         10        20         18        21            1\n",
              "..        ...       ...        ...       ...          ...\n",
              "70         15        -1          1        26            1\n",
              "71         13        15         14        15            1\n",
              "72         20        30         14        31            1\n",
              "73         13        15         15        20            1\n",
              "74         13         9         18        19            0\n",
              "75         22        10          7        22            1\n",
              "76         27        19         17        12            0\n",
              "77         15        35         13        29            1\n",
              "78         17        14         15        25            1\n",
              "79         16        14         11        18            1\n",
              "80         14        13          6        21            0\n",
              "81         31        17         16        20            0\n",
              "82         23         0          5        23            1\n",
              "83         10         8          9        23            1\n",
              "84         17         7         18        11            1\n",
              "85         17        20          0        17            0\n",
              "86         15         7         23         3            0\n",
              "87         13        21         18         9            0\n",
              "88         19         6         17         5            0\n",
              "89         16        15          8        18            1\n",
              "90         13         7         14         4            0\n",
              "91         21        11         16        11            0\n",
              "92         27        10         22        14            0\n",
              "93          8        19         31        16            1\n",
              "94         11         1         14         5            0\n",
              "95         18        12          8        18            0\n",
              "96         18        29         18        28            1\n",
              "97         11         0          2         1            0\n",
              "98         19         9         12        15            0\n",
              "99         15         9         25        14            0\n",
              "\n",
              "[100 rows x 5 columns]"
            ]
          },
          "metadata": {
            "tags": []
          },
          "execution_count": 3
        }
      ]
    },
    {
      "metadata": {
        "id": "LndL0fzrVl3z",
        "colab_type": "text"
      },
      "cell_type": "markdown",
      "source": [
        "examine the datat using matplotlib:\n",
        "\n",
        "import matplotlib using:\n",
        "\n",
        "```python\n",
        "import matplotlib.pyplot as plt\n",
        "```\n",
        "\n",
        "create plots using:\n",
        "```python\n",
        "plt.scatter(data['ML Tweets'], data['ML Blogs'], c=data['Works in ML'])\n",
        "```\n"
      ]
    },
    {
      "metadata": {
        "colab_type": "code",
        "id": "LBMgg7dl1o3x",
        "colab": {}
      },
      "cell_type": "code",
      "source": [
        "# explore the data\n",
        "import matplotlib.pyplot as plt"
      ],
      "execution_count": 0,
      "outputs": []
    },
    {
      "metadata": {
        "id": "iYSsphKkV-0a",
        "colab_type": "code",
        "colab": {
          "base_uri": "https://localhost:8080/",
          "height": 286
        },
        "outputId": "ed81db04-49fe-487f-c118-776b23165ce3"
      },
      "cell_type": "code",
      "source": [
        "plt.scatter(data['ML Tweets'], data['ML Blogs'], c=data['Works in ML'])"
      ],
      "execution_count": 5,
      "outputs": [
        {
          "output_type": "execute_result",
          "data": {
            "text/plain": [
              "<matplotlib.collections.PathCollection at 0x7f556d8b6e48>"
            ]
          },
          "metadata": {
            "tags": []
          },
          "execution_count": 5
        },
        {
          "output_type": "display_data",
          "data": {
            "image/png": "[encoded data removed]",
            "text/plain": [
              "<Figure size 432x288 with 1 Axes>"
            ]
          },
          "metadata": {
            "tags": []
          }
        }
      ]
    },
    {
      "metadata": {
        "id": "pY24pVVOV_Ky",
        "colab_type": "code",
        "colab": {
          "base_uri": "https://localhost:8080/",
          "height": 286
        },
        "outputId": "5a59836d-da44-4a93-b436-9922e3572f53"
      },
      "cell_type": "code",
      "source": [
        "plt.scatter(data['ML Tweets'], data['ML Talks'], c=data['Works in ML'])"
      ],
      "execution_count": 7,
      "outputs": [
        {
          "output_type": "execute_result",
          "data": {
            "text/plain": [
              "<matplotlib.collections.PathCollection at 0x7f556b845fd0>"
            ]
          },
          "metadata": {
            "tags": []
          },
          "execution_count": 7
        },
        {
          "output_type": "display_data",
          "data": {
            "image/png": "[encoded data removed]",
            "text/plain": [
              "<Figure size 432x288 with 1 Axes>"
            ]
          },
          "metadata": {
            "tags": []
          }
        }
      ]
    },
    {
      "metadata": {
        "id": "vw6zp7YeS9iX",
        "colab_type": "text"
      },
      "cell_type": "markdown",
      "source": [
        "There is a tool in pandas called [corr](https://pandas.pydata.org/pandas-docs/stable/reference/api/pandas.DataFrame.corr.html) which might help"
      ]
    },
    {
      "metadata": {
        "id": "LM4SnLePNmgT",
        "colab_type": "code",
        "colab": {
          "base_uri": "https://localhost:8080/",
          "height": 203
        },
        "outputId": "56791446-2954-46e6-ac36-c6f12f2f20dc"
      },
      "cell_type": "code",
      "source": [
        "# check for clear correlations between input data and output label\n",
        "data.corr()"
      ],
      "execution_count": 6,
      "outputs": [
        {
          "output_type": "execute_result",
          "data": {
            "text/html": [
              "<div>\n",
              "<style scoped>\n",
              "    .dataframe tbody tr th:only-of-type {\n",
              "        vertical-align: middle;\n",
              "    }\n",
              "\n",
              "    .dataframe tbody tr th {\n",
              "        vertical-align: top;\n",
              "    }\n",
              "\n",
              "    .dataframe thead th {\n",
              "        text-align: right;\n",
              "    }\n",
              "</style>\n",
              "<table border=\"1\" class=\"dataframe\">\n",
              "  <thead>\n",
              "    <tr style=\"text-align: right;\">\n",
              "      <th></th>\n",
              "      <th>ML Tweets</th>\n",
              "      <th>ML Blogs</th>\n",
              "      <th>ML Videos</th>\n",
              "      <th>ML Talks</th>\n",
              "      <th>Works in ML</th>\n",
              "    </tr>\n",
              "  </thead>\n",
              "  <tbody>\n",
              "    <tr>\n",
              "      <th>ML Tweets</th>\n",
              "      <td>1.000000</td>\n",
              "      <td>0.013549</td>\n",
              "      <td>0.089442</td>\n",
              "      <td>0.082840</td>\n",
              "      <td>-0.056539</td>\n",
              "    </tr>\n",
              "    <tr>\n",
              "      <th>ML Blogs</th>\n",
              "      <td>0.013549</td>\n",
              "      <td>1.000000</td>\n",
              "      <td>0.318990</td>\n",
              "      <td>0.388307</td>\n",
              "      <td>0.237779</td>\n",
              "    </tr>\n",
              "    <tr>\n",
              "      <th>ML Videos</th>\n",
              "      <td>0.089442</td>\n",
              "      <td>0.318990</td>\n",
              "      <td>1.000000</td>\n",
              "      <td>-0.192119</td>\n",
              "      <td>-0.187369</td>\n",
              "    </tr>\n",
              "    <tr>\n",
              "      <th>ML Talks</th>\n",
              "      <td>0.082840</td>\n",
              "      <td>0.388307</td>\n",
              "      <td>-0.192119</td>\n",
              "      <td>1.000000</td>\n",
              "      <td>0.681465</td>\n",
              "    </tr>\n",
              "    <tr>\n",
              "      <th>Works in ML</th>\n",
              "      <td>-0.056539</td>\n",
              "      <td>0.237779</td>\n",
              "      <td>-0.187369</td>\n",
              "      <td>0.681465</td>\n",
              "      <td>1.000000</td>\n",
              "    </tr>\n",
              "  </tbody>\n",
              "</table>\n",
              "</div>"
            ],
            "text/plain": [
              "             ML Tweets  ML Blogs  ML Videos  ML Talks  Works in ML\n",
              "ML Tweets     1.000000  0.013549   0.089442  0.082840    -0.056539\n",
              "ML Blogs      0.013549  1.000000   0.318990  0.388307     0.237779\n",
              "ML Videos     0.089442  0.318990   1.000000 -0.192119    -0.187369\n",
              "ML Talks      0.082840  0.388307  -0.192119  1.000000     0.681465\n",
              "Works in ML  -0.056539  0.237779  -0.187369  0.681465     1.000000"
            ]
          },
          "metadata": {
            "tags": []
          },
          "execution_count": 6
        }
      ]
    },
    {
      "metadata": {
        "id": "G4P_Ra0sWBsv",
        "colab_type": "text"
      },
      "cell_type": "markdown",
      "source": [
        "build a simple model for making prediction using a simple `if` satement:"
      ]
    },
    {
      "metadata": {
        "id": "jSms4aDENmgZ",
        "colab_type": "code",
        "colab": {}
      },
      "cell_type": "code",
      "source": [
        "# create model\n",
        "def model(x):\n",
        "    '''\n",
        "      x = input data frame\n",
        "    '''\n",
        "    return x['ML Talks'] > 15"
      ],
      "execution_count": 0,
      "outputs": []
    },
    {
      "metadata": {
        "id": "M4KwAMHdQFOE",
        "colab_type": "text"
      },
      "cell_type": "markdown",
      "source": [
        "## Test the accuracy of your model\n",
        "\n",
        "Using a accuracy metric from SciKit Learn:\n",
        "\n",
        "```python\n",
        "from sklearn.metrics import accuracy_score\n",
        "```"
      ]
    },
    {
      "metadata": {
        "id": "IDPBPxQnNmgd",
        "colab_type": "code",
        "colab": {
          "base_uri": "https://localhost:8080/",
          "height": 34
        },
        "outputId": "01e3710a-4650-46d8-9576-be76f5b3e474"
      },
      "cell_type": "code",
      "source": [
        "# test model performance\n",
        "from sklearn.metrics import accuracy_score\n",
        "\n",
        "\n",
        "accuracy_score(data['Works in ML'], model(data))"
      ],
      "execution_count": 11,
      "outputs": [
        {
          "output_type": "execute_result",
          "data": {
            "text/plain": [
              "0.79"
            ]
          },
          "metadata": {
            "tags": []
          },
          "execution_count": 11
        }
      ]
    },
    {
      "metadata": {
        "id": "x8kcsXh-Wdu5",
        "colab_type": "text"
      },
      "cell_type": "markdown",
      "source": [
        "Take your model and put it in a Cloud Function:\n",
        "\n",
        "<img height=300px src=\"https://raw.githubusercontent.com/ZackAkil/break-and-make-ml-on-gcp/master/screenshot/cloudfunction.png\">\n"
      ]
    },
    {
      "metadata": {
        "colab_type": "code",
        "id": "LAUMYfvF1uX7",
        "colab": {
          "base_uri": "https://localhost:8080/",
          "height": 34
        },
        "outputId": "05264e24-8fae-4a5c-c43a-2432621e23da"
      },
      "cell_type": "code",
      "source": [
        "# call the cloud function you just created\n",
        "\n",
        "req = requests.post('https://us-central1-feisty-bindery-212509.cloudfunctions.net/works-in-ml',\n",
        "                   json = {\"ML Talks\":20, \"ML Tweets\": 5, \"ML Blogs\": 1, \"ML Videos\": 23})\n",
        "\n",
        "req.json()"
      ],
      "execution_count": 13,
      "outputs": [
        {
          "output_type": "execute_result",
          "data": {
            "text/plain": [
              "{'prediction': True}"
            ]
          },
          "metadata": {
            "tags": []
          },
          "execution_count": 13
        }
      ]
    },
    {
      "metadata": {
        "id": "Gmqs50pMQ5Ma",
        "colab_type": "text"
      },
      "cell_type": "markdown",
      "source": [
        "# Congratulations!\n",
        "You successfully build 2 models that could work in production using the pre-trained Vision API and CLoud Functions!\n",
        "\n",
        "Maybe play aroudn with the other annotation features of the Vison API e.g. face emotion detection, or upload version 2 of your Cloud Function with a better performing heuristic model"
      ]
    },
    {
      "metadata": {
        "id": "WTjfBdBnRjd6",
        "colab_type": "code",
        "colab": {}
      },
      "cell_type": "code",
      "source": [
        ""
      ],
      "execution_count": 0,
      "outputs": []
    }
  ]
}