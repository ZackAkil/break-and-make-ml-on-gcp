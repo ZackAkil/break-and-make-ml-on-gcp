{
  "nbformat": 4,
  "nbformat_minor": 0,
  "metadata": {
    "colab": {
      "name": "Session 3 - Keras CPU vs GPU and TensorFlow Eager.ipynb",
      "version": "0.3.2",
      "provenance": [],
      "toc_visible": true,
      "include_colab_link": true
    },
    "kernelspec": {
      "display_name": "Python 3",
      "language": "python",
      "name": "python3"
    }
  },
  "cells": [
    {
      "cell_type": "markdown",
      "metadata": {
        "id": "view-in-github",
        "colab_type": "text"
      },
      "source": [
        "<a href=\"https://colab.research.google.com/github/ZackAkil/break-and-make-ml-on-gcp/blob/master/Session%203%20-%20ML%20Engine%20%26%20Keras%20GPU.ipynb\" target=\"_parent\"><img src=\"https://colab.research.google.com/assets/colab-badge.svg\" alt=\"Open In Colab\"/></a>"
      ]
    },
    {
      "metadata": {
        "colab_type": "text",
        "id": "veWSeRdJDlqS"
      },
      "cell_type": "markdown",
      "source": [
        "# Session 3 - SciKit Learn with ML Engine, Keras CPU vs GPU\n",
        "\n",
        "In this notebook we will build and productionise an SciKit-Learn model using ML-Engine, then we will play with GPUs in colab\n",
        "\n",
        "https://cloud.google.com/ml-engine/docs/scikit/quickstart"
      ]
    },
    {
      "metadata": {
        "id": "t4pNSl1DkSV5",
        "colab_type": "text"
      },
      "cell_type": "markdown",
      "source": [
        "Build a simple SciKit-Learn Iris model:"
      ]
    },
    {
      "metadata": {
        "id": "TVws-_cykSV7",
        "colab_type": "code",
        "colab": {}
      },
      "cell_type": "code",
      "source": [
        "from sklearn.datasets import load_iris"
      ],
      "execution_count": 0,
      "outputs": []
    },
    {
      "metadata": {
        "id": "i806hMiBkSV-",
        "colab_type": "code",
        "colab": {},
        "outputId": "3e2e1840-ba8e-460d-8119-70da9f9719da"
      },
      "cell_type": "code",
      "source": [
        "data = load_iris()\n",
        "data.keys()"
      ],
      "execution_count": 0,
      "outputs": [
        {
          "output_type": "execute_result",
          "data": {
            "text/plain": [
              "dict_keys(['data', 'target', 'feature_names', 'DESCR', 'filename'])"
            ]
          },
          "metadata": {
            "tags": []
          },
          "execution_count": 15
        }
      ]
    },
    {
      "metadata": {
        "id": "MbIIFoX5kSWC",
        "colab_type": "code",
        "colab": {}
      },
      "cell_type": "code",
      "source": [
        "X = data['data']\n",
        "y = data['target']"
      ],
      "execution_count": 0,
      "outputs": []
    },
    {
      "metadata": {
        "id": "ip6b5O6RkSWK",
        "colab_type": "code",
        "colab": {}
      },
      "cell_type": "code",
      "source": [
        "from sklearn.model_selection import train_test_split"
      ],
      "execution_count": 0,
      "outputs": []
    },
    {
      "metadata": {
        "id": "flNfxWaSkSWM",
        "colab_type": "code",
        "colab": {}
      },
      "cell_type": "code",
      "source": [
        "X_train, X_test, y_train, y_test = train_test_split(\n",
        "    X, y, test_size=0.33, random_state=42)"
      ],
      "execution_count": 0,
      "outputs": []
    },
    {
      "metadata": {
        "id": "-ynAlaUIkSWP",
        "colab_type": "code",
        "colab": {}
      },
      "cell_type": "code",
      "source": [
        "from sklearn.linear_model import LinearRegression"
      ],
      "execution_count": 0,
      "outputs": []
    },
    {
      "metadata": {
        "id": "lgB5resakSWR",
        "colab_type": "code",
        "colab": {}
      },
      "cell_type": "code",
      "source": [
        "model = LinearRegression()"
      ],
      "execution_count": 0,
      "outputs": []
    },
    {
      "metadata": {
        "id": "aeUQyektkSWU",
        "colab_type": "code",
        "colab": {},
        "outputId": "1f0ff0db-c3a0-4621-f7b2-2af55a4ba1d5"
      },
      "cell_type": "code",
      "source": [
        "model.fit(X_train, y_train)"
      ],
      "execution_count": 0,
      "outputs": [
        {
          "output_type": "execute_result",
          "data": {
            "text/plain": [
              "LinearRegression(copy_X=True, fit_intercept=True, n_jobs=1, normalize=False)"
            ]
          },
          "metadata": {
            "tags": []
          },
          "execution_count": 26
        }
      ]
    },
    {
      "metadata": {
        "id": "hjRx8e0UkSWX",
        "colab_type": "code",
        "colab": {},
        "outputId": "77782e1c-fa4e-468a-f226-4d68c142aa6c"
      },
      "cell_type": "code",
      "source": [
        "model.score(X_test, y_test)"
      ],
      "execution_count": 0,
      "outputs": [
        {
          "output_type": "execute_result",
          "data": {
            "text/plain": [
              "0.726157083655243"
            ]
          },
          "metadata": {
            "tags": []
          },
          "execution_count": 27
        }
      ]
    },
    {
      "metadata": {
        "id": "skF0FBkMo3G3",
        "colab_type": "text"
      },
      "cell_type": "markdown",
      "source": [
        "Export SciKit-Learn model using the joblibe library using the following code:\n",
        "\n",
        "```python\n",
        "from sklearn.externals import joblib\n",
        "joblib.dump(your_model, 'model.joblib')\n",
        "\n",
        "```"
      ]
    },
    {
      "metadata": {
        "id": "ZTodqFUrkSWh",
        "colab_type": "text"
      },
      "cell_type": "markdown",
      "source": [
        "Upload the joblib file to to Ml Engine:\n",
        "\n",
        "<img height=300 src=\"https://raw.githubusercontent.com/ZackAkil/break-and-make-ml-on-gcp/master/screenshot/mlengine.png\"/>"
      ]
    },
    {
      "metadata": {
        "id": "O28Onof0oXGz",
        "colab_type": "text"
      },
      "cell_type": "markdown",
      "source": [
        "## Calling ML Engine using gcloud commands:\n",
        "\n",
        "first autheticate this notebook to you GCP account using the folling code:\n",
        "\n",
        "```python\n",
        "# Authenticate to GCS.\n",
        "from google.colab import auth\n",
        "auth.authenticate_user()\n",
        "```"
      ]
    },
    {
      "metadata": {
        "id": "GEZoJKUUkSWi",
        "colab_type": "text"
      },
      "cell_type": "markdown",
      "source": [
        "\n",
        "\n",
        "Extra task, build a random forest regressor to see if it performs better and upload it as version 2!"
      ]
    },
    {
      "metadata": {
        "id": "5cFa8ZrRkSWj",
        "colab_type": "text"
      },
      "cell_type": "markdown",
      "source": [
        "# Keras CPU vs GPU\n",
        "\n",
        "The MNIST dataset is a populare dataset for training handwriting models. \n",
        "\n",
        "Bring over the Keras MNIST example code: https://github.com/keras-team/keras/blob/master/examples/mnist_cnn.py "
      ]
    },
    {
      "metadata": {
        "colab_type": "code",
        "id": "n9QxCjYDDSnk",
        "colab": {}
      },
      "cell_type": "code",
      "source": [
        "# mnist example code\n",
        "\n"
      ],
      "execution_count": 0,
      "outputs": []
    },
    {
      "metadata": {
        "id": "EOM8c21LlFTe",
        "colab_type": "text"
      },
      "cell_type": "markdown",
      "source": [
        "## NOTICE that the time to training a single epoch takes minutes, training for 12 epochs will take up most of an hour. \n",
        "\n",
        "Change the colab to use GPUs, look a the `Runtime` menue and click on `Change Runtime Type`:\n",
        "\n",
        "<img height=300 src=\"https://raw.githubusercontent.com/ZackAkil/break-and-make-ml-on-gcp/master/screenshot/tools.png\"/> \n",
        "\n",
        "Then select 'GPU' in the hardware acceleration menu:\n",
        "\n",
        "<img height=300 src=\"https://raw.githubusercontent.com/ZackAkil/break-and-make-ml-on-gcp/master/screenshot/gpu.png\"/>\n",
        "\n",
        "### Re-run your Keras code and notice the epoch trianing time."
      ]
    },
    {
      "metadata": {
        "id": "xDoWoCFTmzhN",
        "colab_type": "text"
      },
      "cell_type": "markdown",
      "source": [
        "# Congratulations\n",
        "You built and deployed a SciKit-Learn model using ML-Engine and used cloud GPUs to train a deep neural network!\n",
        "\n",
        "You can look into how you can call ML-Engine from Cloud Functions without woring about authentication: https://cloud.google.com/blog/products/ai-machine-learning/simplifying-ml-predictions-with-google-cloud-functions"
      ]
    }
  ]
}